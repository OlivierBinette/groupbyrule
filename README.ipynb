{
 "cells": [
  {
   "cell_type": "markdown",
   "metadata": {},
   "source": [
    "# groupbyrule: deduplicate data using fuzzy and deterministic matching rules\n",
    "\n",
    "🚧 under construction 🚧\n",
    "\n",
    "**groupbyrule** is a Python package for data cleaning and data integration. It integrates with [pandas](https://pandas.pydata.org/)' [`groupby`](https://pandas.pydata.org/docs/reference/api/pandas.DataFrame.groupby.html) function to, not only group rows by a given identifier, but also groups rows based on logical rules and partial matching. In other words, it provides tools for deterministic record linkage and entity resolution in structured databases. It can also be used for *blocking*, a form of filtering used to speed-up more complex entity resolution algorithms. See the references below to learn more about these topics.\n",
    "\n",
    "One of the main goal of **groupbyrule** is to be user-friendly. Matching rules and clustering algorithms are composable and the performance of algorithms can be readily evaluted given training data. The package is built on top of [pandas](https://pandas.pydata.org) for data manipulation and on [igraph](https://igraph.org/python/) for graph clustering and related computations.\n",
    "\n",
    "## Installation\n",
    "\n",
    "Install from github using the following command:"
   ]
  },
  {
   "cell_type": "code",
   "execution_count": 4,
   "metadata": {},
   "outputs": [
    {
     "name": "stdout",
     "output_type": "stream",
     "text": [
      "Collecting git+https://github.com/OlivierBinette/groupbyrule.git\n",
      "  Cloning https://github.com/OlivierBinette/groupbyrule.git to /tmp/pip-req-build-aje_uf06\n",
      "  Running command git clone -q https://github.com/OlivierBinette/groupbyrule.git /tmp/pip-req-build-aje_uf06\n",
      "  Resolved https://github.com/OlivierBinette/groupbyrule.git to commit b9cd01ee2781c9ea24926d54104f362dd61c9988\n",
      "Requirement already satisfied: numpy in /home/olivier/anaconda3/lib/python3.9/site-packages (from groupbyrule==0.0.1.9000) (1.20.3)\n",
      "Requirement already satisfied: scipy in /home/olivier/anaconda3/lib/python3.9/site-packages (from groupbyrule==0.0.1.9000) (1.7.1)\n",
      "Requirement already satisfied: pandas in /home/olivier/anaconda3/lib/python3.9/site-packages (from groupbyrule==0.0.1.9000) (1.3.4)\n",
      "Requirement already satisfied: igraph in /home/olivier/anaconda3/lib/python3.9/site-packages (from groupbyrule==0.0.1.9000) (0.9.8)\n",
      "Requirement already satisfied: texttable>=1.6.2 in /home/olivier/anaconda3/lib/python3.9/site-packages (from igraph->groupbyrule==0.0.1.9000) (1.6.4)\n",
      "Requirement already satisfied: python-dateutil>=2.7.3 in /home/olivier/anaconda3/lib/python3.9/site-packages (from pandas->groupbyrule==0.0.1.9000) (2.8.2)\n",
      "Requirement already satisfied: pytz>=2017.3 in /home/olivier/anaconda3/lib/python3.9/site-packages (from pandas->groupbyrule==0.0.1.9000) (2021.3)\n",
      "Requirement already satisfied: six>=1.5 in /home/olivier/anaconda3/lib/python3.9/site-packages (from python-dateutil>=2.7.3->pandas->groupbyrule==0.0.1.9000) (1.16.0)\n",
      "Note: you may need to restart the kernel to use updated packages.\n"
     ]
    }
   ],
   "source": [
    "pip install git+https://github.com/OlivierBinette/groupbyrule.git"
   ]
  },
  {
   "cell_type": "markdown",
   "metadata": {},
   "source": [
    "## Examples\n",
    "\n",
    "### Rule-Based Linkage\n",
    "\n",
    "Consider the `RLdata500` dataset from the [RecordLinkage R package](https://www.google.com/search?channel=fs&client=ubuntu&q=recordlinkage+r+package)."
   ]
  },
  {
   "cell_type": "code",
   "execution_count": 5,
   "metadata": {},
   "outputs": [
    {
     "data": {
      "text/html": [
       "<div>\n",
       "<style scoped>\n",
       "    .dataframe tbody tr th:only-of-type {\n",
       "        vertical-align: middle;\n",
       "    }\n",
       "\n",
       "    .dataframe tbody tr th {\n",
       "        vertical-align: top;\n",
       "    }\n",
       "\n",
       "    .dataframe thead th {\n",
       "        text-align: right;\n",
       "    }\n",
       "</style>\n",
       "<table border=\"1\" class=\"dataframe\">\n",
       "  <thead>\n",
       "    <tr style=\"text-align: right;\">\n",
       "      <th></th>\n",
       "      <th>fname_c1</th>\n",
       "      <th>fname_c2</th>\n",
       "      <th>lname_c1</th>\n",
       "      <th>lname_c2</th>\n",
       "      <th>by</th>\n",
       "      <th>bm</th>\n",
       "      <th>bd</th>\n",
       "    </tr>\n",
       "  </thead>\n",
       "  <tbody>\n",
       "    <tr>\n",
       "      <th>1</th>\n",
       "      <td>CARSTEN</td>\n",
       "      <td>NaN</td>\n",
       "      <td>MEIER</td>\n",
       "      <td>NaN</td>\n",
       "      <td>1949</td>\n",
       "      <td>7</td>\n",
       "      <td>22</td>\n",
       "    </tr>\n",
       "    <tr>\n",
       "      <th>2</th>\n",
       "      <td>GERD</td>\n",
       "      <td>NaN</td>\n",
       "      <td>BAUER</td>\n",
       "      <td>NaN</td>\n",
       "      <td>1968</td>\n",
       "      <td>7</td>\n",
       "      <td>27</td>\n",
       "    </tr>\n",
       "    <tr>\n",
       "      <th>3</th>\n",
       "      <td>ROBERT</td>\n",
       "      <td>NaN</td>\n",
       "      <td>HARTMANN</td>\n",
       "      <td>NaN</td>\n",
       "      <td>1930</td>\n",
       "      <td>4</td>\n",
       "      <td>30</td>\n",
       "    </tr>\n",
       "    <tr>\n",
       "      <th>4</th>\n",
       "      <td>STEFAN</td>\n",
       "      <td>NaN</td>\n",
       "      <td>WOLFF</td>\n",
       "      <td>NaN</td>\n",
       "      <td>1957</td>\n",
       "      <td>9</td>\n",
       "      <td>2</td>\n",
       "    </tr>\n",
       "    <tr>\n",
       "      <th>5</th>\n",
       "      <td>RALF</td>\n",
       "      <td>NaN</td>\n",
       "      <td>KRUEGER</td>\n",
       "      <td>NaN</td>\n",
       "      <td>1966</td>\n",
       "      <td>1</td>\n",
       "      <td>13</td>\n",
       "    </tr>\n",
       "  </tbody>\n",
       "</table>\n",
       "</div>"
      ],
      "text/plain": [
       "  fname_c1 fname_c2  lname_c1 lname_c2    by  bm  bd\n",
       "1  CARSTEN      NaN     MEIER      NaN  1949   7  22\n",
       "2     GERD      NaN     BAUER      NaN  1968   7  27\n",
       "3   ROBERT      NaN  HARTMANN      NaN  1930   4  30\n",
       "4   STEFAN      NaN     WOLFF      NaN  1957   9   2\n",
       "5     RALF      NaN   KRUEGER      NaN  1966   1  13"
      ]
     },
     "execution_count": 5,
     "metadata": {},
     "output_type": "execute_result"
    }
   ],
   "source": [
    "from groupbyrule import RLdata500\n",
    "\n",
    "RLdata500"
   ]
  },
  {
   "cell_type": "markdown",
   "metadata": {},
   "source": [
    "We deduplicate this dataset by linking records which match either on both first name (`fname_c1`) and last name (`lname_c1`), on both first name and birth day (`bd`), or on both last name and birth day. Linkage transitivity is resolved, by default, by considering connected components of the resulting graph."
   ]
  },
  {
   "cell_type": "code",
   "execution_count": 6,
   "metadata": {},
   "outputs": [
    {
     "data": {
      "text/plain": [
       "(0.96, 0.11538461538461539)"
      ]
     },
     "execution_count": 6,
     "metadata": {},
     "output_type": "execute_result"
    }
   ],
   "source": [
    "from groupbyrule import Any, Match, identity_RLdata500, precision_recall\n",
    "import pandas as pd\n",
    "\n",
    "# Specify linkage rule\n",
    "rule = Any(Match(\"fname_c1\", \"lname_c1\"),\n",
    "           Match(\"fname_c1\", \"bd\"),\n",
    "           Match(\"lname_c1\", \"bd\"))\n",
    "\n",
    "# Apply the rule to a dataset\n",
    "rule.fit(RLdata500)\n",
    "\n",
    "# Evaluate performance by computing precision and recall\n",
    "precision_recall(rule.groups, identity_RLdata500)"
   ]
  },
  {
   "cell_type": "markdown",
   "metadata": {},
   "source": [
    "\n",
    "Note that this is not the best way to deduplicate this dataset. However, it showcases the composability of matching rules. The specific rules themselves (exact matching, similarity-based string matching, and different clustering algorithms) can be customized as needed. A more complete overview is available [here]() 🚧.\n",
    "\n",
    "A better way to deduplicate this data is to link all pairs of records which agree on all but at most one attribute. This is done below, with the precision and recall computed from the ground truth membership vector `identity_RLdata500`."
   ]
  },
  {
   "cell_type": "code",
   "execution_count": 7,
   "metadata": {},
   "outputs": [
    {
     "data": {
      "text/plain": [
       "(0.92, 1.0)"
      ]
     },
     "execution_count": 7,
     "metadata": {},
     "output_type": "execute_result"
    }
   ],
   "source": [
    "from groupbyrule import AllButK\n",
    "\n",
    "# Match records matching on all but at most k=1 of the specified attributes\n",
    "rule = AllButK(\"fname_c1\", \"lname_c1\", \"bd\", \"bm\", \"by\", k=1)\n",
    "\n",
    "# Apply the rule to a dataset\n",
    "rule.fit(RLdata500)\n",
    "\n",
    "# Evaluate performance by computing precision and recall\n",
    "precision_recall(rule.groups, identity_RLdata500)"
   ]
  },
  {
   "cell_type": "markdown",
   "metadata": {},
   "source": [
    "### Postprocessing\n",
    "\n",
    "Following record linkage, records can be processed using pandas's groupby and aggregation functions. Below, we only keep the first non-NA attribute value for each record cluster. This is a simple way to obtain a deduplicated dataset."
   ]
  },
  {
   "cell_type": "code",
   "execution_count": 8,
   "metadata": {},
   "outputs": [
    {
     "data": {
      "text/html": [
       "<div>\n",
       "<style scoped>\n",
       "    .dataframe tbody tr th:only-of-type {\n",
       "        vertical-align: middle;\n",
       "    }\n",
       "\n",
       "    .dataframe tbody tr th {\n",
       "        vertical-align: top;\n",
       "    }\n",
       "\n",
       "    .dataframe thead th {\n",
       "        text-align: right;\n",
       "    }\n",
       "</style>\n",
       "<table border=\"1\" class=\"dataframe\">\n",
       "  <thead>\n",
       "    <tr style=\"text-align: right;\">\n",
       "      <th></th>\n",
       "      <th>fname_c1</th>\n",
       "      <th>fname_c2</th>\n",
       "      <th>lname_c1</th>\n",
       "      <th>lname_c2</th>\n",
       "      <th>by</th>\n",
       "      <th>bm</th>\n",
       "      <th>bd</th>\n",
       "    </tr>\n",
       "  </thead>\n",
       "  <tbody>\n",
       "    <tr>\n",
       "      <th>0</th>\n",
       "      <td>CARSTEN</td>\n",
       "      <td>None</td>\n",
       "      <td>MEIER</td>\n",
       "      <td>None</td>\n",
       "      <td>1949</td>\n",
       "      <td>7</td>\n",
       "      <td>22</td>\n",
       "    </tr>\n",
       "    <tr>\n",
       "      <th>1</th>\n",
       "      <td>GERD</td>\n",
       "      <td>None</td>\n",
       "      <td>BAUER</td>\n",
       "      <td>None</td>\n",
       "      <td>1968</td>\n",
       "      <td>7</td>\n",
       "      <td>27</td>\n",
       "    </tr>\n",
       "    <tr>\n",
       "      <th>2</th>\n",
       "      <td>ROBERT</td>\n",
       "      <td>None</td>\n",
       "      <td>HARTMANN</td>\n",
       "      <td>None</td>\n",
       "      <td>1930</td>\n",
       "      <td>4</td>\n",
       "      <td>30</td>\n",
       "    </tr>\n",
       "    <tr>\n",
       "      <th>3</th>\n",
       "      <td>STEFAN</td>\n",
       "      <td>None</td>\n",
       "      <td>WOLFF</td>\n",
       "      <td>None</td>\n",
       "      <td>1957</td>\n",
       "      <td>9</td>\n",
       "      <td>2</td>\n",
       "    </tr>\n",
       "    <tr>\n",
       "      <th>4</th>\n",
       "      <td>RALF</td>\n",
       "      <td>None</td>\n",
       "      <td>KRUEGER</td>\n",
       "      <td>None</td>\n",
       "      <td>1966</td>\n",
       "      <td>1</td>\n",
       "      <td>13</td>\n",
       "    </tr>\n",
       "    <tr>\n",
       "      <th>...</th>\n",
       "      <td>...</td>\n",
       "      <td>...</td>\n",
       "      <td>...</td>\n",
       "      <td>...</td>\n",
       "      <td>...</td>\n",
       "      <td>...</td>\n",
       "      <td>...</td>\n",
       "    </tr>\n",
       "    <tr>\n",
       "      <th>449</th>\n",
       "      <td>BRITTA</td>\n",
       "      <td>None</td>\n",
       "      <td>KOEHLER</td>\n",
       "      <td>None</td>\n",
       "      <td>2001</td>\n",
       "      <td>1</td>\n",
       "      <td>12</td>\n",
       "    </tr>\n",
       "    <tr>\n",
       "      <th>450</th>\n",
       "      <td>SABINE</td>\n",
       "      <td>None</td>\n",
       "      <td>SCHNEIDER</td>\n",
       "      <td>None</td>\n",
       "      <td>1953</td>\n",
       "      <td>5</td>\n",
       "      <td>20</td>\n",
       "    </tr>\n",
       "    <tr>\n",
       "      <th>451</th>\n",
       "      <td>MARIA</td>\n",
       "      <td>None</td>\n",
       "      <td>SCHNEIDER</td>\n",
       "      <td>None</td>\n",
       "      <td>1981</td>\n",
       "      <td>8</td>\n",
       "      <td>8</td>\n",
       "    </tr>\n",
       "    <tr>\n",
       "      <th>452</th>\n",
       "      <td>INGE</td>\n",
       "      <td>None</td>\n",
       "      <td>SCHREIBER</td>\n",
       "      <td>None</td>\n",
       "      <td>1967</td>\n",
       "      <td>12</td>\n",
       "      <td>13</td>\n",
       "    </tr>\n",
       "    <tr>\n",
       "      <th>453</th>\n",
       "      <td>KARIN</td>\n",
       "      <td>None</td>\n",
       "      <td>GUENTHER</td>\n",
       "      <td>None</td>\n",
       "      <td>1941</td>\n",
       "      <td>8</td>\n",
       "      <td>19</td>\n",
       "    </tr>\n",
       "  </tbody>\n",
       "</table>\n",
       "<p>454 rows × 7 columns</p>\n",
       "</div>"
      ],
      "text/plain": [
       "    fname_c1 fname_c2   lname_c1 lname_c2    by  bm  bd\n",
       "0    CARSTEN     None      MEIER     None  1949   7  22\n",
       "1       GERD     None      BAUER     None  1968   7  27\n",
       "2     ROBERT     None   HARTMANN     None  1930   4  30\n",
       "3     STEFAN     None      WOLFF     None  1957   9   2\n",
       "4       RALF     None    KRUEGER     None  1966   1  13\n",
       "..       ...      ...        ...      ...   ...  ..  ..\n",
       "449   BRITTA     None    KOEHLER     None  2001   1  12\n",
       "450   SABINE     None  SCHNEIDER     None  1953   5  20\n",
       "451    MARIA     None  SCHNEIDER     None  1981   8   8\n",
       "452     INGE     None  SCHREIBER     None  1967  12  13\n",
       "453    KARIN     None   GUENTHER     None  1941   8  19\n",
       "\n",
       "[454 rows x 7 columns]"
      ]
     },
     "execution_count": 8,
     "metadata": {},
     "output_type": "execute_result"
    }
   ],
   "source": [
    "RLdata500\\\n",
    "    .groupby(rule.groups)\\\n",
    "    .first()"
   ]
  },
  {
   "cell_type": "markdown",
   "metadata": {},
   "source": [
    "\n",
    "### Similarity-Based Linkage Rules\n",
    "\n",
    "🚧\n",
    "\n",
    "### Supervised Approaches and Learning Rules\n",
    "\n",
    "🚧\n",
    "\n",
    "### Clustering Algorithms\n",
    "\n",
    "🚧\n",
    "\n",
    "### Performance Evaluation\n",
    "\n",
    "🚧\n",
    "\n",
    "## References\n",
    "\n",
    "🚧\n"
   ]
  }
 ],
 "metadata": {
  "interpreter": {
   "hash": "b582ae4d77d18d658cc55812e32328158e2f45884933450b1021a6ea5c0413ef"
  },
  "kernelspec": {
   "display_name": "Python 3.9.7 64-bit ('groupbyrule': conda)",
   "language": "python",
   "name": "python3"
  },
  "language_info": {
   "codemirror_mode": {
    "name": "ipython",
    "version": 3
   },
   "file_extension": ".py",
   "mimetype": "text/x-python",
   "name": "python",
   "nbconvert_exporter": "python",
   "pygments_lexer": "ipython3",
   "version": "3.9.7"
  },
  "orig_nbformat": 4
 },
 "nbformat": 4,
 "nbformat_minor": 2
}
