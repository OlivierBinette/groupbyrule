{
 "cells": [
  {
   "cell_type": "markdown",
   "metadata": {},
   "source": [
    "# groupbyrule: deduplicate data using fuzzy and deterministic matching rules\n",
    "\n",
    "🚧 under construction 🚧\n",
    "\n",
    "**groupbyrule** is a Python package for data cleaning and data integration. It provides an extension of [pandas](https://pandas.pydata.org/)' [`groupby`](https://pandas.pydata.org/docs/reference/api/pandas.DataFrame.groupby.html) function which, instead of grouping rows by a given identifier, groups rows based on logical rules and partial matching. In other words, it provides tools for deterministic record linkage and entity resolution in structured databases. It can also be used for *blocking*, a form of filtering used to speed-up more complex entity resolution algorithms. See the references below to learn more about these topics.\n",
    "\n",
    "One of the main goal of **groupbyrule** is to be *user-friendly*. Matching rules and clustering algorithms are composable, and the performance of algorithms can be readily evaluted given training data. The package is built on top of [pandas](https://pandas.pydata.org) for data manipulation and on [igraph](https://igraph.org/python/) for graph clustering and related computations.\n",
    "\n",
    "## Installation\n",
    "\n",
    "🚧\n",
    "\n",
    "## Examples\n",
    "\n",
    "Consider the `RLdata500` dataset from the [RecordLinkage R package](https://www.google.com/search?channel=fs&client=ubuntu&q=recordlinkage+r+package)."
   ]
  },
  {
   "cell_type": "code",
   "execution_count": 3,
   "metadata": {},
   "outputs": [
    {
     "data": {
      "text/plain": [
       "Index(['fname_c1', 'fname_c2', 'lname_c1', 'lname_c2', 'by', 'bm', 'bd'], dtype='object')"
      ]
     },
     "execution_count": 3,
     "metadata": {},
     "output_type": "execute_result"
    }
   ],
   "source": [
    "from groupbyrule import RLdata500\n",
    "\n",
    "RLdata500.head()"
   ]
  },
  {
   "cell_type": "markdown",
   "metadata": {},
   "source": [
    "We deduplicate this dataset by linking records which match either on both first name (`fname_c1`) and last name (`lname_c1`), on both first name and birth day (`bd`), or on both last name and birth day. Linkage transitivity is resolved, by default, by considering connected components of the resulting graph."
   ]
  },
  {
   "cell_type": "code",
   "execution_count": 2,
   "metadata": {},
   "outputs": [
    {
     "ename": "ImportError",
     "evalue": "cannot import name 'Data' from 'groupbyrule' (/home/olivier/Desktop/Research/groupbyrule/groupbyrule/__init__.py)",
     "output_type": "error",
     "traceback": [
      "\u001b[0;31m---------------------------------------------------------------------------\u001b[0m",
      "\u001b[0;31mImportError\u001b[0m                               Traceback (most recent call last)",
      "\u001b[0;32m/tmp/ipykernel_168160/2088331581.py\u001b[0m in \u001b[0;36m<module>\u001b[0;34m\u001b[0m\n\u001b[0;32m----> 1\u001b[0;31m \u001b[0;32mfrom\u001b[0m \u001b[0mgroupbyrule\u001b[0m \u001b[0;32mimport\u001b[0m \u001b[0mData\u001b[0m\u001b[0;34m,\u001b[0m \u001b[0mAny\u001b[0m\u001b[0;34m,\u001b[0m \u001b[0mMatch\u001b[0m\u001b[0;34m\u001b[0m\u001b[0;34m\u001b[0m\u001b[0m\n\u001b[0m\u001b[1;32m      2\u001b[0m \u001b[0;34m\u001b[0m\u001b[0m\n\u001b[1;32m      3\u001b[0m Data(RLdata500).groupby(Any(Match(\"fname_c1\", \"lname_c1\"),\n\u001b[1;32m      4\u001b[0m                             \u001b[0mMatch\u001b[0m\u001b[0;34m(\u001b[0m\u001b[0;34m\"fname_c1\"\u001b[0m\u001b[0;34m,\u001b[0m \u001b[0;34m\"bd\"\u001b[0m\u001b[0;34m)\u001b[0m\u001b[0;34m,\u001b[0m\u001b[0;34m\u001b[0m\u001b[0;34m\u001b[0m\u001b[0m\n\u001b[1;32m      5\u001b[0m                             Match(\"lname_c1\", \"bd\")))\\\n",
      "\u001b[0;31mImportError\u001b[0m: cannot import name 'Data' from 'groupbyrule' (/home/olivier/Desktop/Research/groupbyrule/groupbyrule/__init__.py)"
     ]
    }
   ],
   "source": [
    "from groupbyrule import Data, Any, Match\n",
    "\n",
    "Data(RLdata500).groupby(Any(Match(\"fname_c1\", \"lname_c1\"),\n",
    "                            Match(\"fname_c1\", \"bd\"),\n",
    "                            Match(\"lname_c1\", \"bd\")))\\\n",
    "               .combine() # Combine the information of matching records in lists "
   ]
  },
  {
   "cell_type": "markdown",
   "metadata": {},
   "source": [
    "\n",
    "Note that this is not the best way to deduplicate this dataset. However, it showcases the composability of matching rules. The specific rules themselves (exact matching, fuzzy string matching, different clustering algorithms to resolve transitivity) can be customized as needed. A more complete overview is available [here]() 🚧.\n",
    "\n",
    "A better way to deduplicate this data is to link all pairs of records which agree on all but at most one attribute. This is done below, with the precision and recall computed from the ground truth membership vector `identity_RLdata500`."
   ]
  },
  {
   "cell_type": "code",
   "execution_count": null,
   "metadata": {},
   "outputs": [],
   "source": [
    "from groupbyrule import AllButK\n",
    "\n",
    "Data(RLdata500).groupby(AllButK(\"fname_c1\", \"lname_c1\", \"bd\", \"bm\", \"by\", k=1))\\\n",
    "               .combine()\\\n",
    "               .precision_recall(identity_RLdata500)"
   ]
  },
  {
   "cell_type": "markdown",
   "metadata": {},
   "source": [
    "\n",
    "### Overview of Linkage Rules\n",
    "\n",
    "🚧\n",
    "\n",
    "### Overview of Clustering Algorithms\n",
    "\n",
    "🚧\n",
    "\n",
    "## References\n",
    "\n",
    "- Binette, O. & Steorts, R.C. (2021) Almost All of Statistical Entity Resolution. arXiv e-prints, arxiv:\n",
    "-  "
   ]
  }
 ],
 "metadata": {
  "interpreter": {
   "hash": "b582ae4d77d18d658cc55812e32328158e2f45884933450b1021a6ea5c0413ef"
  },
  "kernelspec": {
   "display_name": "Python 3.9.7 64-bit ('groupbyrule': conda)",
   "language": "python",
   "name": "python3"
  },
  "language_info": {
   "codemirror_mode": {
    "name": "ipython",
    "version": 3
   },
   "file_extension": ".py",
   "mimetype": "text/x-python",
   "name": "python",
   "nbconvert_exporter": "python",
   "pygments_lexer": "ipython3",
   "version": "3.9.7"
  },
  "orig_nbformat": 4
 },
 "nbformat": 4,
 "nbformat_minor": 2
}
