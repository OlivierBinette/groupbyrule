{
 "cells": [
  {
   "cell_type": "markdown",
   "metadata": {},
   "source": [
    "[![test](https://github.com/OlivierBinette/groupbyrule/actions/workflows/python-package-conda.yml/badge.svg)](https://github.com/OlivierBinette/groupbyrule/actions/workflows/python-package-conda.yml) \n",
    "\n",
    "# :link: GroupByRule: deduplicate data using fuzzy and deterministic matching rules\n",
    "\n",
    "🚧 under construction 🚧\n",
    "\n",
    "**GroupByRule** is a Python package for data cleaning and deduplication. It integrates with [pandas](https://pandas.pydata.org/)' [`groupby`](https://pandas.pydata.org/docs/reference/api/pandas.DataFrame.groupby.html) function to not only group dataframe rows by a given identifier, but also groups rows based on logical rules and partial matching. In other words, it provides tools for deterministic record linkage and entity resolution in structured databases. It can also be used for *blocking*, a form of filtering used to speed-up more complex entity resolution algorithms. See the references below to learn more about these topics.\n",
    "\n",
    "One of the main goal of **GroupByRule** is to be user-friendly. Matching rules and clustering algorithms are composable and the performance of algorithms can be readily evaluated given training data. The package is built on top of [pandas](https://pandas.pydata.org) for data manipulation and on [igraph](https://igraph.org/python/) for graph clustering and related computations.\n",
    "\n",
    "## Installation\n",
    "\n",
    "Install from github using the following command:"
   ]
  },
  {
   "cell_type": "markdown",
   "metadata": {},
   "source": [
    "     pip install git+https://github.com/OlivierBinette/groupbyrule.git"
   ]
  },
  {
   "cell_type": "markdown",
   "metadata": {},
   "source": [
    "## Examples\n",
    "\n",
    "### Rule-Based Linkage\n",
    "\n",
    "Consider the `RLdata500` dataset from the [RecordLinkage R package](https://www.google.com/search?channel=fs&client=ubuntu&q=recordlinkage+r+package)."
   ]
  },
  {
   "cell_type": "code",
   "execution_count": 4,
   "metadata": {},
   "outputs": [
    {
     "data": {
      "text/plain": [
       "2.0"
      ]
     },
     "execution_count": 4,
     "metadata": {},
     "output_type": "execute_result"
    }
   ],
   "source": [
    "from groupbyrule.data import load_RLdata500\n",
    "\n",
    "df = load_RLdata500()\n",
    "df.head()\n",
    "\n",
    "from groupbyrule.comparator._levenshtein import Levenshtein\n",
    "\n",
    "cmp = Levenshtein()\n",
    "cmp.compare(\"test\", \"testtt\")"
   ]
  },
  {
   "cell_type": "markdown",
   "metadata": {},
   "source": [
    "We deduplicate this dataset by linking records which match either on both first name (`fname_c1`) and last name (`lname_c1`), on both first name and birth day (`bd`), or on both last name and birth day. Linkage transitivity is resolved, by default, by considering connected components of the resulting graph. Precision and recall are computed from the ground truth membership vector `identity_RLdata500`."
   ]
  },
  {
   "cell_type": "code",
   "execution_count": 2,
   "metadata": {},
   "outputs": [
    {
     "data": {
      "text/plain": [
       "(0.11538461538461539, 0.96)"
      ]
     },
     "execution_count": 2,
     "metadata": {},
     "output_type": "execute_result"
    }
   ],
   "source": [
    "from groupbyrule import Any, Match, precision_recall\n",
    "\n",
    "# Specify linkage rule\n",
    "rule = Any(Match(\"fname_c1\", \"lname_c1\"),\n",
    "           Match(\"fname_c1\", \"bd\"),\n",
    "           Match(\"lname_c1\", \"bd\"))\n",
    "\n",
    "# Apply the rule to a dataset\n",
    "rule.fit(df)\n",
    "\n",
    "# Evaluate performance by computing precision and recall\n",
    "precision_recall(rule.groups, df.identity)"
   ]
  },
  {
   "cell_type": "markdown",
   "metadata": {},
   "source": [
    "\n",
    "This is not the best way to deduplicate this dataset, but the above showcases the composability of matching rules. The specific rules themselves (exact matching, similarity-based string matching, and different clustering algorithms) can be customized as needed. A more complete overview is available [here]() 🚧.\n",
    "\n",
    "A better way to deduplicate this data is to link all pairs of records which agree on all but at most one attribute. This is done below."
   ]
  },
  {
   "cell_type": "code",
   "execution_count": 3,
   "metadata": {},
   "outputs": [
    {
     "data": {
      "text/plain": [
       "(1.0, 0.92)"
      ]
     },
     "execution_count": 3,
     "metadata": {},
     "output_type": "execute_result"
    }
   ],
   "source": [
    "from groupbyrule import AllButK\n",
    "\n",
    "# Link records agreeing on all but at most k=1 of the specified attributes\n",
    "rule = AllButK(\"fname_c1\", \"lname_c1\", \"bd\", \"bm\", \"by\", k=1)\n",
    "\n",
    "# Apply the rule to a dataset\n",
    "rule.fit(df)\n",
    "\n",
    "# Evaluate performance by computing precision and recall\n",
    "precision_recall(rule.groups, df.identity)"
   ]
  },
  {
   "cell_type": "markdown",
   "metadata": {},
   "source": [
    "### Postprocessing\n",
    "\n",
    "Following record linkage, records can be processed using pandas's groupby and aggregation functions. Below, we only keep the first non-NA attribute value for each record cluster. This is a simple way to obtain a deduplicated dataset."
   ]
  },
  {
   "cell_type": "code",
   "execution_count": 4,
   "metadata": {},
   "outputs": [],
   "source": [
    "deduplicated = df.groupby(rule.groups).first()"
   ]
  },
  {
   "cell_type": "markdown",
   "metadata": {},
   "source": [
    "\n",
    "### Similarity-Based Linkage Rules\n",
    "\n",
    "🚧\n",
    "\n",
    "#### Comparison Functions\n",
    "\n",
    "**GroupByRule** provides a suite of string and numerical similarity functions as part of its `comparator` submodule. String similarity functions include the Levenshtein distance, 🚧, and 🚧. These similarity functions can be used on their own as shown below, or for the definition of linkage rules as explained in the following section.\n",
    "\n",
    "String distance functions are implemented through subclasses of the `Comparator` abstract base case. `Comparator` objects are used to instanciate comparison functions while allowing data in memory to be recycled across function calls. The `compare` method can then be used to compare elements, or the `elementwise` method can be used to compare all pairs of elements between two lists.\n",
    "\n",
    "Below are examples of the comparison functions currently implemented. These are currently implemented in pure Python and a not very efficient. A C implementation will soon be provided 🚧."
   ]
  },
  {
   "cell_type": "markdown",
   "metadata": {},
   "source": [
    "##### Levenshtein Distance\n",
    "\n",
    "The Levenshtein distance is defined as ..."
   ]
  },
  {
   "cell_type": "code",
   "execution_count": 5,
   "metadata": {},
   "outputs": [
    {
     "data": {
      "text/plain": [
       "0.14285714285714285"
      ]
     },
     "execution_count": 5,
     "metadata": {},
     "output_type": "execute_result"
    }
   ],
   "source": [
    "from groupbyrule.comparator import Levenshtein\n",
    "\n",
    "cmp = Levenshtein(normalize=True)\n",
    "\n",
    "cmp.compare(\"Olivier\", \"Oliver\")"
   ]
  },
  {
   "cell_type": "code",
   "execution_count": 6,
   "metadata": {},
   "outputs": [],
   "source": [
    "import groupbyrule"
   ]
  },
  {
   "cell_type": "markdown",
   "metadata": {},
   "source": [
    "### Supervised Approaches and Learning Rules\n",
    "\n",
    "🚧\n",
    "\n",
    "### Clustering Algorithms\n",
    "\n",
    "🚧\n",
    "\n",
    "### Performance Evaluation\n",
    "\n",
    "🚧\n",
    "\n",
    "### Privacy-Preserving Record Linkage\n",
    "\n",
    "🚧\n",
    "\n",
    "#### Cryptographic Primitives\n",
    "\n",
    "🚧\n",
    "\n",
    "#### Multiparty Computation Protocols\n",
    "\n",
    "🚧\n",
    "\n",
    "\n",
    "## References\n",
    "\n",
    "🚧\n"
   ]
  },
  {
   "cell_type": "code",
   "execution_count": null,
   "metadata": {},
   "outputs": [],
   "source": []
  }
 ],
 "metadata": {
  "interpreter": {
   "hash": "b582ae4d77d18d658cc55812e32328158e2f45884933450b1021a6ea5c0413ef"
  },
  "kernelspec": {
   "display_name": "Python 3.9.7 64-bit ('groupbyrule': conda)",
   "language": "python",
   "name": "python3"
  },
  "language_info": {
   "codemirror_mode": {
    "name": "ipython",
    "version": 3
   },
   "file_extension": ".py",
   "mimetype": "text/x-python",
   "name": "python",
   "nbconvert_exporter": "python",
   "pygments_lexer": "ipython3",
   "version": "3.10.0"
  },
  "orig_nbformat": 4
 },
 "nbformat": 4,
 "nbformat_minor": 2
}
