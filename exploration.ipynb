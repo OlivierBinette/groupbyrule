{
 "cells": [
  {
   "cell_type": "code",
   "execution_count": 6,
   "metadata": {},
   "outputs": [],
   "source": [
    "import pandas as pd\n",
    "import numpy as np\n",
    "import matplotlib.pyplot as plt\n",
    "import os\n",
    "import igraph\n",
    "from abc import ABC, abstractmethod\n",
    "\n",
    "import groupbyrule as groupby\n",
    "from groupbyrule import RLdata500, RLdata10000"
   ]
  },
  {
   "cell_type": "code",
   "execution_count": 7,
   "metadata": {
    "collapsed": false,
    "pycharm": {
     "name": "#%%\n"
    }
   },
   "outputs": [
    {
     "data": {
      "text/html": [
       "<div>\n",
       "<style scoped>\n",
       "    .dataframe tbody tr th:only-of-type {\n",
       "        vertical-align: middle;\n",
       "    }\n",
       "\n",
       "    .dataframe tbody tr th {\n",
       "        vertical-align: top;\n",
       "    }\n",
       "\n",
       "    .dataframe thead th {\n",
       "        text-align: right;\n",
       "    }\n",
       "</style>\n",
       "<table border=\"1\" class=\"dataframe\">\n",
       "  <thead>\n",
       "    <tr style=\"text-align: right;\">\n",
       "      <th></th>\n",
       "      <th>Unnamed: 0</th>\n",
       "      <th>fname_c1</th>\n",
       "      <th>fname_c2</th>\n",
       "      <th>lname_c1</th>\n",
       "      <th>lname_c2</th>\n",
       "      <th>by</th>\n",
       "      <th>bm</th>\n",
       "      <th>bd</th>\n",
       "    </tr>\n",
       "  </thead>\n",
       "  <tbody>\n",
       "    <tr>\n",
       "      <th>0</th>\n",
       "      <td>1</td>\n",
       "      <td>CARSTEN</td>\n",
       "      <td>NaN</td>\n",
       "      <td>MEIER</td>\n",
       "      <td>NaN</td>\n",
       "      <td>1949</td>\n",
       "      <td>7</td>\n",
       "      <td>22</td>\n",
       "    </tr>\n",
       "    <tr>\n",
       "      <th>1</th>\n",
       "      <td>2</td>\n",
       "      <td>GERD</td>\n",
       "      <td>NaN</td>\n",
       "      <td>BAUER</td>\n",
       "      <td>NaN</td>\n",
       "      <td>1968</td>\n",
       "      <td>7</td>\n",
       "      <td>27</td>\n",
       "    </tr>\n",
       "    <tr>\n",
       "      <th>2</th>\n",
       "      <td>3</td>\n",
       "      <td>ROBERT</td>\n",
       "      <td>NaN</td>\n",
       "      <td>HARTMANN</td>\n",
       "      <td>NaN</td>\n",
       "      <td>1930</td>\n",
       "      <td>4</td>\n",
       "      <td>30</td>\n",
       "    </tr>\n",
       "    <tr>\n",
       "      <th>3</th>\n",
       "      <td>4</td>\n",
       "      <td>STEFAN</td>\n",
       "      <td>NaN</td>\n",
       "      <td>WOLFF</td>\n",
       "      <td>NaN</td>\n",
       "      <td>1957</td>\n",
       "      <td>9</td>\n",
       "      <td>2</td>\n",
       "    </tr>\n",
       "    <tr>\n",
       "      <th>4</th>\n",
       "      <td>5</td>\n",
       "      <td>RALF</td>\n",
       "      <td>NaN</td>\n",
       "      <td>KRUEGER</td>\n",
       "      <td>NaN</td>\n",
       "      <td>1966</td>\n",
       "      <td>1</td>\n",
       "      <td>13</td>\n",
       "    </tr>\n",
       "  </tbody>\n",
       "</table>\n",
       "</div>"
      ],
      "text/plain": [
       "   Unnamed: 0 fname_c1 fname_c2  lname_c1 lname_c2    by  bm  bd\n",
       "0           1  CARSTEN      NaN     MEIER      NaN  1949   7  22\n",
       "1           2     GERD      NaN     BAUER      NaN  1968   7  27\n",
       "2           3   ROBERT      NaN  HARTMANN      NaN  1930   4  30\n",
       "3           4   STEFAN      NaN     WOLFF      NaN  1957   9   2\n",
       "4           5     RALF      NaN   KRUEGER      NaN  1966   1  13"
      ]
     },
     "execution_count": 7,
     "metadata": {},
     "output_type": "execute_result"
    }
   ],
   "source": [
    "RLdata500.head()"
   ]
  },
  {
   "cell_type": "code",
   "execution_count": 31,
   "metadata": {
    "collapsed": false,
    "pycharm": {
     "name": "#%%\n"
    }
   },
   "outputs": [
    {
     "data": {
      "text/plain": [
       "'Clustering with 10000 elements and 8964 clusters'"
      ]
     },
     "execution_count": 31,
     "metadata": {},
     "output_type": "execute_result"
    }
   ],
   "source": [
    "df = RLdata10000\n",
    "attributes_list = [\"fname_c1\", \"bd\", \"bm\"]\n",
    "\n",
    "membership = df.groupby(attributes_list).ngroup()\n",
    "\n",
    "rule = groupby.Match(\"fname_c1\", \"bd\", \"bm\")\n",
    "\n",
    "rule.apply(df)\n",
    "rule.membership\n",
    "cl = rule.clusters\n",
    "g = rule.graph\n",
    "\n",
    "rule = groupby.Match(groupby.Match(\"fname_c1\"), groupby.Match(\"bd\"), groupby.Match(\"bm\"))\n",
    "rule.apply(df).clusters.summary()\n",
    "\n",
    "rule = groupby.Any(groupby.Match(\"fname_c1\", \"bd\", \"bm\", \"by\"), \n",
    "                   groupby.Match(\"lname_c1\", \"bd\", \"bm\", \"by\"),\n",
    "                   groupby.Match(\"fname_c1\", \"lname_c1\", \"bd\", \"bm\"),\n",
    "                   groupby.Match(\"fname_c1\", \"lname_c1\", \"bm\", \"by\"),\n",
    "                   groupby.Match(\"fname_c1\", \"lname_c1\", \"bd\", \"by\"))\n",
    "rule.apply(df)\n",
    "rule.clusters.summary()"
   ]
  },
  {
   "cell_type": "code",
   "execution_count": 70,
   "metadata": {},
   "outputs": [
    {
     "data": {
      "text/plain": [
       "33216"
      ]
     },
     "execution_count": 70,
     "metadata": {},
     "output_type": "execute_result"
    }
   ],
   "source": [
    "d1 = {\"a\":1}\n",
    "d2 = {\"a\":1, \"b\":1}\n",
    "\n",
    "from collections import Counter\n",
    "\n",
    "g.add_edges([(e.source, e.target) for e in g.es])\n",
    "len(g.es.count_multiple())"
   ]
  },
  {
   "cell_type": "code",
   "execution_count": 41,
   "metadata": {},
   "outputs": [
    {
     "ename": "NameError",
     "evalue": "name 'OffByK' is not defined",
     "output_type": "error",
     "traceback": [
      "\u001b[0;31m---------------------------------------------------------------------------\u001b[0m",
      "\u001b[0;31mNameError\u001b[0m                                 Traceback (most recent call last)",
      "\u001b[0;32m/tmp/ipykernel_117241/275673473.py\u001b[0m in \u001b[0;36m<module>\u001b[0;34m\u001b[0m\n\u001b[1;32m      1\u001b[0m \u001b[0;31m# MatchingRule\u001b[0m\u001b[0;34m\u001b[0m\u001b[0;34m\u001b[0m\u001b[0m\n\u001b[0;32m----> 2\u001b[0;31m \u001b[0mOffByK\u001b[0m\u001b[0;34m(\u001b[0m\u001b[0;34m[\u001b[0m\u001b[0;34m\"fname_c1\"\u001b[0m\u001b[0;34m,\u001b[0m \u001b[0;34m\"lname_c2\"\u001b[0m\u001b[0;34m]\u001b[0m\u001b[0;34m,\u001b[0m \u001b[0mk\u001b[0m\u001b[0;34m=\u001b[0m\u001b[0;36m2\u001b[0m\u001b[0;34m)\u001b[0m\u001b[0;34m\u001b[0m\u001b[0;34m\u001b[0m\u001b[0m\n\u001b[0m\u001b[1;32m      3\u001b[0m \u001b[0mAnyMatch\u001b[0m\u001b[0;34m(\u001b[0m\u001b[0mOffByK\u001b[0m\u001b[0;34m(\u001b[0m\u001b[0;34m[\u001b[0m\u001b[0;34m\"fname_c1\"\u001b[0m\u001b[0;34m,\u001b[0m \u001b[0;34m\"lname_c2\"\u001b[0m\u001b[0;34m]\u001b[0m\u001b[0;34m,\u001b[0m \u001b[0mk\u001b[0m\u001b[0;34m=\u001b[0m\u001b[0;36m2\u001b[0m\u001b[0;34m)\u001b[0m\u001b[0;34m,\u001b[0m \u001b[0mExactMatch\u001b[0m\u001b[0;34m(\u001b[0m\u001b[0;34m[\u001b[0m\u001b[0;34m\"bd\"\u001b[0m\u001b[0;34m,\u001b[0m \u001b[0;34m\"bm\"\u001b[0m\u001b[0;34m,\u001b[0m \u001b[0;34m\"by\"\u001b[0m\u001b[0;34m,\u001b[0m \u001b[0;34m\"fname_c1\"\u001b[0m\u001b[0;34m]\u001b[0m\u001b[0;34m)\u001b[0m\u001b[0;34m)\u001b[0m\u001b[0;34m\u001b[0m\u001b[0;34m\u001b[0m\u001b[0m\n\u001b[1;32m      4\u001b[0m \u001b[0;34m\u001b[0m\u001b[0m\n\u001b[1;32m      5\u001b[0m \u001b[0mlogicalRule\u001b[0m \u001b[0;34m=\u001b[0m \u001b[0mMatchingRule\u001b[0m\u001b[0;34m(\u001b[0m\u001b[0mAttribute\u001b[0m\u001b[0;34m(\u001b[0m\u001b[0;34m\"bm\"\u001b[0m\u001b[0;34m)\u001b[0m \u001b[0;32mor\u001b[0m \u001b[0mAttribute\u001b[0m\u001b[0;34m(\u001b[0m\u001b[0;34m\"bd\"\u001b[0m\u001b[0;34m)\u001b[0m \u001b[0;32mor\u001b[0m \u001b[0mAttribute\u001b[0m\u001b[0;34m(\u001b[0m\u001b[0;34m\"by\"\u001b[0m\u001b[0;34m)\u001b[0m\u001b[0;34m)\u001b[0m \u001b[0;32mand\u001b[0m \u001b[0;34m(\u001b[0m\u001b[0mAttribute\u001b[0m\u001b[0;34m(\u001b[0m\u001b[0;34m\"SSN\"\u001b[0m\u001b[0;34m)\u001b[0m\u001b[0;34m)\u001b[0m\u001b[0;34m\u001b[0m\u001b[0;34m\u001b[0m\u001b[0m\n",
      "\u001b[0;31mNameError\u001b[0m: name 'OffByK' is not defined"
     ]
    }
   ],
   "source": [
    "# MatchRule\n",
    "OffByK([\"fname_c1\", \"lname_c2\"], k=2)\n",
    "AnyMatch(OffByK([\"fname_c1\", \"lname_c2\"], k=2), ExactMatch([\"bd\", \"bm\", \"by\", \"fname_c1\"]))\n",
    "\n",
    "logicalRule = MatchRule(Attribute(\"bm\") or Attribute(\"bd\") or Attribute(\"by\")) and (Attribute(\"SSN\"))\n",
    "\n",
    "\n",
    "groupbyrule(RLdata500, OffByK([\"fname_c1\", \"lname_c2\"], k=2), transitivity=\"ConnectedComponents\")\n",
    "\n",
    "RLdata500"
   ]
  }
 ],
 "metadata": {
  "kernelspec": {
   "display_name": "Python 3",
   "language": "python",
   "name": "python3"
  },
  "language_info": {
   "codemirror_mode": {
    "name": "ipython",
    "version": 3
   },
   "file_extension": ".py",
   "mimetype": "text/x-python",
   "name": "python",
   "nbconvert_exporter": "python",
   "pygments_lexer": "ipython3",
   "version": "3.9.7"
  }
 },
 "nbformat": 4,
 "nbformat_minor": 0
}
